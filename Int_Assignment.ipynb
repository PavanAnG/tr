{
 "cells": [
  {
   "cell_type": "code",
   "execution_count": 4,
   "id": "add6fa76",
   "metadata": {},
   "outputs": [
    {
     "name": "stdout",
     "output_type": "stream",
     "text": [
      "<class 'int'>\n",
      "2476081638128\n"
     ]
    }
   ],
   "source": [
    "#Declare an int value and store it in a variable.Check the type and print the id of the same\n",
    "\n",
    "a = 15\n",
    "print(type(a))\n",
    "print(id(a))\n"
   ]
  },
  {
   "cell_type": "code",
   "execution_count": 5,
   "id": "ab6263da",
   "metadata": {},
   "outputs": [
    {
     "name": "stdout",
     "output_type": "stream",
     "text": [
      "2476081638288\n",
      "2476081638288\n"
     ]
    }
   ],
   "source": [
    "#Take one int value between 0 - 256.\n",
    "#Assign it to two different variables.\n",
    "#Check the id of both the variables. It should come the same. Check why?\n",
    "\n",
    "b= 20\n",
    "c= 20\n",
    "print(id(b))\n",
    "print(id(c))\n",
    "\n",
    "#Memory allocation is same between -5 to 256"
   ]
  },
  {
   "cell_type": "code",
   "execution_count": 6,
   "id": "8489ab9b",
   "metadata": {},
   "outputs": [
    {
     "name": "stdout",
     "output_type": "stream",
     "text": [
      "2476195766672\n",
      "2476195766864\n"
     ]
    }
   ],
   "source": [
    "#Take one int value either less than -5 or greater than 256.\n",
    "#Assign it to two different variables.\n",
    "#Check the id of both the variables. It should come different.Check why?\n",
    "\n",
    "d= 523\n",
    "e = 523\n",
    "print(id(d))\n",
    "print(id(e))\n"
   ]
  },
  {
   "cell_type": "code",
   "execution_count": 8,
   "id": "a958992e",
   "metadata": {},
   "outputs": [],
   "source": [
    "#Arithmetic Operations on integers\n",
    "#Take two different integer values.\n",
    "#Store them in two different variables.\n",
    "#Do below operations on them:-\n",
    "# Find sum of both numbers\n",
    "# Find difference between them\n",
    "# Find the product of both numbers.\n",
    "#Find value after dividing first num with second number\n",
    "# Find the remainder after dividing first number with second number\n",
    "# Find the quotient after dividing first number with second number\n",
    "# Find the result of the first num to the power of the second number.\n",
    "\n"
   ]
  },
  {
   "cell_type": "code",
   "execution_count": 14,
   "id": "e58ac691",
   "metadata": {},
   "outputs": [
    {
     "data": {
      "text/plain": [
       "110"
      ]
     },
     "execution_count": 14,
     "metadata": {},
     "output_type": "execute_result"
    }
   ],
   "source": [
    "value1= 96\n",
    "value2 = 14\n",
    "f=value1+value2\n",
    "f"
   ]
  },
  {
   "cell_type": "code",
   "execution_count": 16,
   "id": "8955c2b7",
   "metadata": {},
   "outputs": [
    {
     "data": {
      "text/plain": [
       "82"
      ]
     },
     "execution_count": 16,
     "metadata": {},
     "output_type": "execute_result"
    }
   ],
   "source": [
    "g=value1-value2\n",
    "g"
   ]
  },
  {
   "cell_type": "code",
   "execution_count": 17,
   "id": "24dd8ffd",
   "metadata": {},
   "outputs": [
    {
     "data": {
      "text/plain": [
       "1344"
      ]
     },
     "execution_count": 17,
     "metadata": {},
     "output_type": "execute_result"
    }
   ],
   "source": [
    "g1= value1*value2\n",
    "g1"
   ]
  },
  {
   "cell_type": "code",
   "execution_count": 18,
   "id": "afe5eb47",
   "metadata": {},
   "outputs": [
    {
     "data": {
      "text/plain": [
       "6.857142857142857"
      ]
     },
     "execution_count": 18,
     "metadata": {},
     "output_type": "execute_result"
    }
   ],
   "source": [
    "g2=value1/value2\n",
    "g2"
   ]
  },
  {
   "cell_type": "code",
   "execution_count": 19,
   "id": "98da8496",
   "metadata": {},
   "outputs": [
    {
     "data": {
      "text/plain": [
       "12"
      ]
     },
     "execution_count": 19,
     "metadata": {},
     "output_type": "execute_result"
    }
   ],
   "source": [
    "g3=value1%value2\n",
    "g3"
   ]
  },
  {
   "cell_type": "code",
   "execution_count": 20,
   "id": "89662b6d",
   "metadata": {},
   "outputs": [
    {
     "data": {
      "text/plain": [
       "6"
      ]
     },
     "execution_count": 20,
     "metadata": {},
     "output_type": "execute_result"
    }
   ],
   "source": [
    "g4=value1//value2\n",
    "g4"
   ]
  },
  {
   "cell_type": "code",
   "execution_count": 21,
   "id": "52bde721",
   "metadata": {},
   "outputs": [
    {
     "data": {
      "text/plain": [
       "5646733123551136024526585856"
      ]
     },
     "execution_count": 21,
     "metadata": {},
     "output_type": "execute_result"
    }
   ],
   "source": [
    "g5=value1**value2\n",
    "g5"
   ]
  },
  {
   "cell_type": "code",
   "execution_count": 22,
   "id": "3434d5cb",
   "metadata": {},
   "outputs": [],
   "source": [
    "#Comparison Operators on integers\n",
    "#Take two different integer values.\n",
    "#Store them in two different variables.\n",
    "#Do below operations on them:-\n",
    "# Compare se two numbers with below operator:-\n",
    "# Greater than, '>'\n",
    "# Smaller than, '<'\n",
    "# Greater than or equal to, '>='\n",
    "# Less than or equal to, '<='\n",
    "#Observe their output(return type should be boolean)\n"
   ]
  },
  {
   "cell_type": "code",
   "execution_count": 31,
   "id": "0fdc081a",
   "metadata": {},
   "outputs": [
    {
     "name": "stdout",
     "output_type": "stream",
     "text": [
      "True\n",
      "False\n",
      "True\n",
      "False\n"
     ]
    }
   ],
   "source": [
    "num1=22\n",
    "num2=12\n",
    "result1 = num1 > num2\n",
    "print(result1)\n",
    "result2= num1 < num2\n",
    "print(result2)\n",
    "result3= num1 >= num2\n",
    "print(result3)\n",
    "result4= num1 <= num2\n",
    "print(result4)"
   ]
  },
  {
   "cell_type": "code",
   "execution_count": null,
   "id": "e81d52e7",
   "metadata": {},
   "outputs": [],
   "source": [
    "#Equality Operator\n",
    "#Take two different integer values.\n",
    "#Store them in two different variables.\n",
    "#Equate them using equality operators (==, !=)\n",
    "#Observe the output(return type should be boolean)\n"
   ]
  },
  {
   "cell_type": "code",
   "execution_count": 32,
   "id": "4798ddf5",
   "metadata": {},
   "outputs": [
    {
     "name": "stdout",
     "output_type": "stream",
     "text": [
      "False\n",
      "True\n"
     ]
    }
   ],
   "source": [
    "num3= 25\n",
    "num4= 32\n",
    "result_e= num3 == num4\n",
    "result_ne= num3 != num4\n",
    "print(result_e)\n",
    "print(result_ne)"
   ]
  },
  {
   "cell_type": "code",
   "execution_count": null,
   "id": "b88bfbe9",
   "metadata": {},
   "outputs": [],
   "source": [
    "#Logical operators\n",
    "#Observe the output of below code\n",
    "#Cross check the output manually\n"
   ]
  },
  {
   "cell_type": "code",
   "execution_count": 33,
   "id": "c9caa0f9",
   "metadata": {},
   "outputs": [
    {
     "name": "stdout",
     "output_type": "stream",
     "text": [
      "20\n"
     ]
    }
   ],
   "source": [
    "print(10 and 20)\n"
   ]
  },
  {
   "cell_type": "code",
   "execution_count": 34,
   "id": "c3aea461",
   "metadata": {},
   "outputs": [
    {
     "name": "stdout",
     "output_type": "stream",
     "text": [
      "0\n"
     ]
    }
   ],
   "source": [
    "print(0 and 20)"
   ]
  },
  {
   "cell_type": "code",
   "execution_count": 35,
   "id": "3c63877d",
   "metadata": {},
   "outputs": [
    {
     "name": "stdout",
     "output_type": "stream",
     "text": [
      "0\n"
     ]
    }
   ],
   "source": [
    "print(20 and 0)"
   ]
  },
  {
   "cell_type": "code",
   "execution_count": 36,
   "id": "515b148a",
   "metadata": {},
   "outputs": [
    {
     "name": "stdout",
     "output_type": "stream",
     "text": [
      "0\n"
     ]
    }
   ],
   "source": [
    "print(0 and 0)"
   ]
  },
  {
   "cell_type": "code",
   "execution_count": 37,
   "id": "1498e847",
   "metadata": {},
   "outputs": [
    {
     "name": "stdout",
     "output_type": "stream",
     "text": [
      "10\n"
     ]
    }
   ],
   "source": [
    "print(10 or 20)"
   ]
  },
  {
   "cell_type": "code",
   "execution_count": 38,
   "id": "62a975f6",
   "metadata": {},
   "outputs": [
    {
     "name": "stdout",
     "output_type": "stream",
     "text": [
      "20\n"
     ]
    }
   ],
   "source": [
    "print(0 or 20)"
   ]
  },
  {
   "cell_type": "code",
   "execution_count": 39,
   "id": "e86f08bd",
   "metadata": {},
   "outputs": [
    {
     "name": "stdout",
     "output_type": "stream",
     "text": [
      "20\n"
     ]
    }
   ],
   "source": [
    "print(20 or 0)\n"
   ]
  },
  {
   "cell_type": "code",
   "execution_count": 40,
   "id": "94aaef51",
   "metadata": {},
   "outputs": [
    {
     "name": "stdout",
     "output_type": "stream",
     "text": [
      "0\n"
     ]
    }
   ],
   "source": [
    "print(0 or 0)\n"
   ]
  },
  {
   "cell_type": "code",
   "execution_count": 41,
   "id": "ca824dbd",
   "metadata": {},
   "outputs": [
    {
     "name": "stdout",
     "output_type": "stream",
     "text": [
      "False\n"
     ]
    }
   ],
   "source": [
    "print(not 10)"
   ]
  },
  {
   "cell_type": "code",
   "execution_count": 42,
   "id": "f0adfbdb",
   "metadata": {},
   "outputs": [
    {
     "name": "stdout",
     "output_type": "stream",
     "text": [
      "True\n"
     ]
    }
   ],
   "source": [
    "print(not 0)\n"
   ]
  },
  {
   "cell_type": "code",
   "execution_count": null,
   "id": "a6cad6a4",
   "metadata": {},
   "outputs": [],
   "source": [
    "#Bitwise Operators\n",
    "#Do below operations on the values provided below"
   ]
  },
  {
   "cell_type": "code",
   "execution_count": 44,
   "id": "a81fc65d",
   "metadata": {},
   "outputs": [
    {
     "data": {
      "text/plain": [
       "0"
      ]
     },
     "execution_count": 44,
     "metadata": {},
     "output_type": "execute_result"
    }
   ],
   "source": [
    "10 & 20"
   ]
  },
  {
   "cell_type": "code",
   "execution_count": 45,
   "id": "ceedcfc6",
   "metadata": {},
   "outputs": [
    {
     "data": {
      "text/plain": [
       "30"
      ]
     },
     "execution_count": 45,
     "metadata": {},
     "output_type": "execute_result"
    }
   ],
   "source": [
    "10 | 20"
   ]
  },
  {
   "cell_type": "code",
   "execution_count": 46,
   "id": "61322c6d",
   "metadata": {},
   "outputs": [
    {
     "data": {
      "text/plain": [
       "30"
      ]
     },
     "execution_count": 46,
     "metadata": {},
     "output_type": "execute_result"
    }
   ],
   "source": [
    "10 ^ 20"
   ]
  },
  {
   "cell_type": "code",
   "execution_count": 48,
   "id": "dc37336a",
   "metadata": {},
   "outputs": [
    {
     "data": {
      "text/plain": [
       "-11"
      ]
     },
     "execution_count": 48,
     "metadata": {},
     "output_type": "execute_result"
    }
   ],
   "source": [
    "~10"
   ]
  },
  {
   "cell_type": "code",
   "execution_count": 52,
   "id": "b6338c62",
   "metadata": {},
   "outputs": [
    {
     "data": {
      "text/plain": [
       "40"
      ]
     },
     "execution_count": 52,
     "metadata": {},
     "output_type": "execute_result"
    }
   ],
   "source": [
    "10<<2"
   ]
  },
  {
   "cell_type": "code",
   "execution_count": 53,
   "id": "80da402d",
   "metadata": {},
   "outputs": [
    {
     "data": {
      "text/plain": [
       "2"
      ]
     },
     "execution_count": 53,
     "metadata": {},
     "output_type": "execute_result"
    }
   ],
   "source": [
    "10>>2"
   ]
  },
  {
   "cell_type": "code",
   "execution_count": null,
   "id": "0b8abaed",
   "metadata": {},
   "outputs": [],
   "source": [
    "#What is the output of expression inside print statement. Cross check\n",
    "#before running the program."
   ]
  },
  {
   "cell_type": "code",
   "execution_count": 55,
   "id": "34bb19ab",
   "metadata": {},
   "outputs": [
    {
     "name": "stdout",
     "output_type": "stream",
     "text": [
      "True\n",
      "False\n"
     ]
    }
   ],
   "source": [
    "diff1 = 10\n",
    "diff2 = 10\n",
    "print(diff1 is diff2) \n",
    "print(diff1 is not diff2) "
   ]
  },
  {
   "cell_type": "code",
   "execution_count": 56,
   "id": "b692aa16",
   "metadata": {},
   "outputs": [
    {
     "name": "stdout",
     "output_type": "stream",
     "text": [
      "False\n",
      "True\n"
     ]
    }
   ],
   "source": [
    "a = 1000\n",
    "b = 1000\n",
    "print(a is b) \n",
    "print(a is not b)"
   ]
  },
  {
   "cell_type": "code",
   "execution_count": 57,
   "id": "eaa935e4",
   "metadata": {},
   "outputs": [
    {
     "name": "stdout",
     "output_type": "stream",
     "text": [
      "20\n"
     ]
    }
   ],
   "source": [
    "#What is the output of expression inside print statement. Cross check\n",
    "#before running the program\n",
    "print(10+(10*32)//2**5&20+(~(-10))<<2)\n"
   ]
  },
  {
   "cell_type": "code",
   "execution_count": null,
   "id": "2921c32a",
   "metadata": {},
   "outputs": [],
   "source": [
    "#Membership operation\n",
    "#in, not in are two membership operators and it returns boolean value\n"
   ]
  },
  {
   "cell_type": "code",
   "execution_count": 61,
   "id": "92db060e",
   "metadata": {},
   "outputs": [
    {
     "name": "stdout",
     "output_type": "stream",
     "text": [
      "True\n",
      "True\n",
      "True\n",
      "True\n",
      "True\n",
      "True\n"
     ]
    }
   ],
   "source": [
    "print('2' in 'Python2.7.8')\n",
    "print(10 in [10,10.20,10+20j,'Python'])\n",
    "print(10 in (10,10.20,10+20j,'Python'))\n",
    "print(2 in {1,2,3})\n",
    "print(3 in {1:100, 2:200, 3:300})\n",
    "print(10 in range(20))\n"
   ]
  },
  {
   "cell_type": "code",
   "execution_count": 63,
   "id": "89878acb",
   "metadata": {},
   "outputs": [],
   "source": [
    "#An integer can be represented in binary, octal or hexadecimal form.\n",
    "#Declare one binary, one octal and one hexadecimal value and store them\n",
    "#in three different variables.\n",
    "#Convert 9876 to its binary, octal and hexadecimal equivalent and print their corresponding value"
   ]
  },
  {
   "cell_type": "code",
   "execution_count": 70,
   "id": "0c6f035c",
   "metadata": {},
   "outputs": [
    {
     "name": "stdout",
     "output_type": "stream",
     "text": [
      "36\n",
      "0o16\n",
      "0x43\n"
     ]
    }
   ],
   "source": [
    "binv = 0b100100\n",
    "xg = oct(14)\n",
    "xh = hex(67)\n",
    "print(binv)\n",
    "print(xg)\n",
    "print(xh)"
   ]
  },
  {
   "cell_type": "code",
   "execution_count": 71,
   "id": "73f126e2",
   "metadata": {},
   "outputs": [
    {
     "data": {
      "text/plain": [
       "'0b10011010010100'"
      ]
     },
     "execution_count": 71,
     "metadata": {},
     "output_type": "execute_result"
    }
   ],
   "source": [
    "bin(9876)"
   ]
  },
  {
   "cell_type": "code",
   "execution_count": 72,
   "id": "1f2cc5e5",
   "metadata": {},
   "outputs": [
    {
     "data": {
      "text/plain": [
       "'0x2694'"
      ]
     },
     "execution_count": 72,
     "metadata": {},
     "output_type": "execute_result"
    }
   ],
   "source": [
    "hex(9876)"
   ]
  },
  {
   "cell_type": "code",
   "execution_count": 73,
   "id": "8463fc52",
   "metadata": {},
   "outputs": [
    {
     "data": {
      "text/plain": [
       "'0o23224'"
      ]
     },
     "execution_count": 73,
     "metadata": {},
     "output_type": "execute_result"
    }
   ],
   "source": [
    "oct(9876)"
   ]
  },
  {
   "cell_type": "code",
   "execution_count": 74,
   "id": "4a941cce",
   "metadata": {},
   "outputs": [
    {
     "name": "stdout",
     "output_type": "stream",
     "text": [
      "80\n",
      "3870\n",
      "64222\n",
      "0b1010000\n",
      "0o7436\n",
      "0xfade\n",
      "0b1010000\n",
      "0b1111101011011110\n",
      "0o175336\n",
      "0o7436\n",
      "0x50\n",
      "0xfade\n"
     ]
    }
   ],
   "source": [
    "#What will be the output of following:-\n",
    "th = 0b1010000\n",
    "print(th)\n",
    "th1 = 0o7436\n",
    "print(th1)\n",
    "th2 = 0xfade\n",
    "print(th2)\n",
    "print(bin(80))\n",
    "print(oct(3870))\n",
    "print(hex(64222))\n",
    "print(bin(0b1010000))\n",
    "print(bin(0xfade))\n",
    "print(oct(0xfade))\n",
    "print(oct(0o7436))\n",
    "print(hex(0b1010000))\n",
    "print(hex(0xfade))\n",
    "\n"
   ]
  },
  {
   "cell_type": "code",
   "execution_count": null,
   "id": "751b1b19",
   "metadata": {},
   "outputs": [],
   "source": []
  }
 ],
 "metadata": {
  "kernelspec": {
   "display_name": "Python 3 (ipykernel)",
   "language": "python",
   "name": "python3"
  },
  "language_info": {
   "codemirror_mode": {
    "name": "ipython",
    "version": 3
   },
   "file_extension": ".py",
   "mimetype": "text/x-python",
   "name": "python",
   "nbconvert_exporter": "python",
   "pygments_lexer": "ipython3",
   "version": "3.9.12"
  }
 },
 "nbformat": 4,
 "nbformat_minor": 5
}
